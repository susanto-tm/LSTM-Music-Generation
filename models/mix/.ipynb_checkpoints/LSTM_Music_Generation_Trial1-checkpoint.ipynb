{
 "cells": [
  {
   "cell_type": "code",
   "execution_count": 303,
   "metadata": {
    "pycharm": {
     "is_executing": false
    }
   },
   "outputs": [],
   "source": [
    "import numpy as np\n",
    "import tensorflow as tf\n",
    "import tensorflow.keras as keras\n",
    "from music21 import *\n",
    "import os\n",
    "import IPython.display as display\n",
    "import pygame\n",
    "import tarfile\n",
    "import pandas as pd"
   ]
  },
  {
   "cell_type": "code",
   "execution_count": 394,
   "metadata": {
    "pycharm": {
     "name": "#%%\n"
    }
   },
   "outputs": [],
   "source": [
    "# List all the available midi files\n",
    "path = \"../../dataset/mix/\"\n",
    "midi_files = [path + str(f) for f in os.listdir(path)]"
   ]
  },
  {
   "cell_type": "code",
   "execution_count": 293,
   "metadata": {},
   "outputs": [],
   "source": [
    "# Play a midi file using pygame\n",
    "pygame.init()\n",
    "pygame.mixer.music.load(midi_files[0])\n",
    "pygame.mixer.music.play()"
   ]
  },
  {
   "cell_type": "code",
   "execution_count": 302,
   "metadata": {},
   "outputs": [],
   "source": [
    "# Execute this cell to stop the music\n",
    "pygame.mixer.music.stop()"
   ]
  },
  {
   "cell_type": "code",
   "execution_count": 380,
   "metadata": {},
   "outputs": [],
   "source": [
    "for i in range(len(midi_files)):\n",
    "    mf = converter.parse(midi_files[i])\n",
    "    midi_files[i] = mf"
   ]
  },
  {
   "cell_type": "code",
   "execution_count": 396,
   "metadata": {},
   "outputs": [],
   "source": [
    "# Grab midi files from path\n",
    "midi_files = [path + str(f) for f in os.listdir(path)]\n",
    "\n",
    "# Chordify files to form chords from multiple staves\n",
    "midi_files = [converter.parse(mf).chordify() for mf in midi_files]"
   ]
  },
  {
   "cell_type": "code",
   "execution_count": 388,
   "metadata": {},
   "outputs": [],
   "source": [
    "def check_duration(duration):\n",
    "    if '/' in num:\n",
    "        numerator = float(duration.split('/')[0])\n",
    "        denominator = float(duration.split('/')[1])\n",
    "        duration = str(float(numerator/denominator))\n",
    "    \n",
    "    return duration"
   ]
  },
  {
   "cell_type": "code",
   "execution_count": 457,
   "metadata": {},
   "outputs": [],
   "source": [
    "def map_to_int(chords, durations, offsets):\n",
    "    unique_chords = np.unique([i for s in chords for i in s])\n",
    "    mapped_chords = {c:i for i, c in enumerate(unique_chords)}\n",
    "    \n",
    "    unique_durations = np.unique([i for s in durations for i in s])\n",
    "    mapped_durations = {d:i for i, d in enumerate(unique_durations)}\n",
    "    \n",
    "    unique_offsets = np.unique([i for s in offsets for i in s])\n",
    "    mapped_offsets = {o:i for i, o in enumerate(unique_offsets)}\n",
    "    \n",
    "    print(f'Number of unique notes and chords: {len(mapped_chords)}.\\n\n",
    "            Number of unique durations: {len(mapped_durations)}.\\n\n",
    "            Number of unique offsets: {len(mapped_offsets)}')\n",
    "    \n",
    "    return mapped_chords, mapped_durations, mapped_offsets"
   ]
  },
  {
   "cell_type": "code",
   "execution_count": 458,
   "metadata": {},
   "outputs": [],
   "source": [
    "def preprocess(midi_files):\n",
    "    # A list of all inputs for each song\n",
    "    chords = [[] for _ in range(len(midi_files))]\n",
    "    durations = [[] for _ in range(len(midi_files))]\n",
    "    offsets = [[] for _ in range(len(midi_files))]\n",
    "    \n",
    "    for i, piece in enumerate(midi_files):\n",
    "        for element in piece:\n",
    "            if isinstance(element, note.Note):\n",
    "                chords[i].append(element.pitch)\n",
    "                durations[i].append(element.duration.quarterLength)\n",
    "                offsets[i].append(element.offset)\n",
    "            elif isinstance(element, chord.Chord):\n",
    "                chords[i].append('.'.join(str(n) for n in element.pitches))\n",
    "                durations[i].append(element.duration.quarterLength)\n",
    "                offsets[i].append(element.offset)\n",
    "                \n",
    "    chords, durations, offsets = map_to_int(chords, durations, offsets)\n",
    "    "
   ]
  },
  {
   "cell_type": "code",
   "execution_count": 459,
   "metadata": {},
   "outputs": [
    {
     "name": "stdout",
     "output_type": "stream",
     "text": [
      "True\n"
     ]
    }
   ],
   "source": [
    "preprocess(midi_files)"
   ]
  },
  {
   "cell_type": "code",
   "execution_count": 368,
   "metadata": {},
   "outputs": [],
   "source": [
    "def note_to_int(note):\n",
    "    # pitch reference: https://musescore.org/en/plugin-development/note-pitch-values\n",
    "    note_base = [\"C\", \"C#\", \"D\", \"D#\", \"E\", \"F\", \"F#\", \"G\", \"G#\", \"A\", \"A#\", \"B\"]\n",
    "    first_note = note[0]\n",
    "    base_value = note_base.index(first_note)\n",
    "    \n",
    "    if '#-' in note:\n",
    "        octave = note[3]\n",
    "    elif '#' in note:\n",
    "        octave = note[2]\n",
    "    elif '-' in note:\n",
    "        octave = note[2]\n",
    "    else:\n",
    "        octave = note[1]\n",
    "        \n",
    "    value = base_value + 12 * (int(octave) - (-1))\n",
    "    \n",
    "    return value"
   ]
  },
  {
   "cell_type": "code",
   "execution_count": null,
   "metadata": {},
   "outputs": [],
   "source": [
    "def notes_to_matrix(notes, durations, offsets):\n",
    "    "
   ]
  },
  {
   "cell_type": "code",
   "execution_count": 366,
   "metadata": {},
   "outputs": [],
   "source": [
    "def midi_to_matrix(filename, length):\n",
    "    parts = instrument.partitionByInstrument(filename)\n",
    "    instruments = []\n",
    "    notes = []\n",
    "    durations = []\n",
    "    offsets = []\n",
    "    \n",
    "    \n",
    "    for part in parts:\n",
    "        inst = ''.join(list(str(part).split(' ')[-1])[:-1])\n",
    "        instruments.append(inst)\n",
    "        \n",
    "    piano_index = instruments.index('Piano')\n",
    "    notes_to_parse = parts.parts[piano_index].recurse()\n",
    "    \n",
    "    for element in notes_to_parse:\n",
    "        if isinstance(element, note.Note):\n",
    "            notes.append(note_to_int(str(element.pitch)))\n",
    "            duration = str(element.duration)[27:-1]\n",
    "            durations.append(check_duration(duration))\n",
    "            offsets.append(element.offset)\n",
    "        \n",
    "        elif isinstance(element, chord.Chord):\n",
    "            notes.append('.'.join(str(note_to_int(str(n))) for n in element.pitches))\n",
    "            duration = str(element.duration)[27:-1]\n",
    "            durations.append(check_duration(duration))\n",
    "            offsets.append(element.offset)\n",
    "    \n",
    "    matrx = notes_to_matrix(notes, durations, offsets)\n",
    "    "
   ]
  },
  {
   "cell_type": "code",
   "execution_count": 377,
   "metadata": {},
   "outputs": [
    {
     "name": "stdout",
     "output_type": "stream",
     "text": [
      "B4\n",
      "C5\n"
     ]
    }
   ],
   "source": [
    "# Visualize one midi file\n",
    "parts = instrument.partitionByInstrument(midi_files[0])\n",
    "notes_to_parse = parts[0].recurse()\n",
    "for el in notes_to_parse:\n",
    "    if isinstance(el, chord.Chord):\n",
    "        for n in el.pitches:\n",
    "            print(str(n))\n",
    "        break"
   ]
  },
  {
   "cell_type": "code",
   "execution_count": 367,
   "metadata": {},
   "outputs": [
    {
     "name": "stdout",
     "output_type": "stream",
     "text": [
      "<music21.stream.iterator.RecursiveIterator for Part:Piano @:0>\n"
     ]
    }
   ],
   "source": [
    "midi_to_matrix(midi_files[4])"
   ]
  },
  {
   "cell_type": "code",
   "execution_count": 297,
   "metadata": {},
   "outputs": [],
   "source": [
    "partStream = mf.parts.stream()\n",
    "voices = list(partStream[0].getElementsByClass('Voice'))\n",
    "melody1 = voices[0]\n",
    "voices = voices[1:]"
   ]
  },
  {
   "cell_type": "code",
   "execution_count": 298,
   "metadata": {},
   "outputs": [],
   "source": [
    "for melody in voices:\n",
    "    for j in melody:\n",
    "        melody1.insert(j.offset, j)"
   ]
  },
  {
   "cell_type": "code",
   "execution_count": 299,
   "metadata": {},
   "outputs": [
    {
     "data": {
      "text/plain": [
       "<music21.stream.Voice 0x265b46dafd0>"
      ]
     },
     "execution_count": 299,
     "metadata": {},
     "output_type": "execute_result"
    }
   ],
   "source": [
    "melody1"
   ]
  },
  {
   "cell_type": "code",
   "execution_count": 300,
   "metadata": {},
   "outputs": [],
   "source": [
    "mf = midi.translate.streamToMidiFile(melody1)\n",
    "mf.open('./Voice1.mid', 'wb')\n",
    "mf.write()\n",
    "mf.close()"
   ]
  },
  {
   "cell_type": "code",
   "execution_count": 301,
   "metadata": {},
   "outputs": [],
   "source": [
    "pygame.init()\n",
    "pygame.mixer.music.load('./Voice1.mid')\n",
    "pygame.mixer.music.play()"
   ]
  },
  {
   "cell_type": "code",
   "execution_count": null,
   "metadata": {},
   "outputs": [],
   "source": []
  }
 ],
 "metadata": {
  "kernelspec": {
   "display_name": "Python 3",
   "language": "python",
   "name": "python3"
  },
  "language_info": {
   "codemirror_mode": {
    "name": "ipython",
    "version": 3
   },
   "file_extension": ".py",
   "mimetype": "text/x-python",
   "name": "python",
   "nbconvert_exporter": "python",
   "pygments_lexer": "ipython3",
   "version": "3.8.3"
  },
  "pycharm": {
   "stem_cell": {
    "cell_type": "raw",
    "metadata": {
     "collapsed": false
    },
    "source": []
   }
  }
 },
 "nbformat": 4,
 "nbformat_minor": 1
}
